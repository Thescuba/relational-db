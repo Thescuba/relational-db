{
 "cells": [
  {
   "cell_type": "markdown",
   "metadata": {},
   "source": [
    "# Element of SQL\n",
    "## Types in SQL World\n",
    "### Text and string types\n",
    "* text - like str type in python but writen in 'single quotes'\n",
    "* char(n) — a string of exactly n characters.\n",
    "* varchar(n) — a string of up to n characters.\n",
    "### Numeric types\n",
    "* integer - like int type in python but with different limits\n",
    "* real — a floating-point value, like Python float. Accurate up to six decimal places.\n",
    "* double precision — a higher-precision floating-point value. Accurate up to 15 decimal places.\n",
    "* decimal — an exact decimal value.\n",
    "\n",
    "### Date and time types\n",
    "* date — a calendar date; including year, month, and day.\n",
    "* time — a time of day.\n",
    "* timestamp — a date and time together.\n",
    "**hint:** Always put 'single quotes' around text strings and date/time values. example '2012-11-23' can be read as a string or a date while 2012-11-23 will be read as a mathamatical expression ((2012 - 11) - 23) which returns 1978.\n",
    "\n",
    "![title](img/figure12.png)\n",
    "\n",
    "The keyword SELECT tell us which field/columns we are interested in pulling from the database. The FROM keyword is telling us where we will pulling our data, as in which table. They WHERE keyword acts as a filter and a select clasuse, in the case above we want to filter our results to only gorillas which are named Max\n",
    "\n",
    "\n",
    "## Comparison Operations in SQL\n",
    "* = - is equal to\n",
    "* < - is less than\n",
    "* \\> - is greater than\n",
    "* <= is less than or equal to\n",
    "* \\>= - is greater than or equal to\n",
    "* != - is not equal to\n",
    "\n",
    "### There is no standard way to ask the system a question about itself!\n",
    "Below we see the differents ways to get this info from various databases.\n",
    "![title](img/figure5.png)\n",
    "\n",
    "![title](img/figure6.png)\n",
    "\n",
    "\n",
    "### Select Clasuses\n",
    "* WHERE - Used as a filter to take in value that matter\n",
    "* LIMIT - return only a certain number of rows with option to OFFSET which allows to assign row to start at after filtering \n",
    "* ORDER BY - Sort results by a colummn with default is ascending order but also option for decending as DESC\n",
    "\n",
    "\n",
    "![title](img/figure7.png)\n"
   ]
  },
  {
   "cell_type": "markdown",
   "metadata": {},
   "source": [
    "![title](img/figure8.png)\n",
    "\n",
    "\n",
    "### A lot of operations found in python can also be done in SQL\n",
    "![title](img/figure9.png)\n",
    "\n",
    "\n",
    "### Why do it in the database?\n",
    "* The database can do this faster than python can, sorting a million items in python can take up to a second which is a second your user will be waiting but a database will be much faster. \n",
    "\n",
    "![title](img/figure10.png)\n",
    "Two additional keywords to cover:\n",
    "* AS - Allows us to name new columns\n",
    "* GROUP BY - The group by clause is only used with aggregations, such as max or count. Without a group by clause, a select statement with an aggregation will aggregate over the whole selected table(s), returning only one row. With a group by clause, it will return one row for each distinct value of the column or expression in the group by clause.\n",
    "* HAVING - The having clause works like the where clause, but it applies after group by aggregations take place.\n",
    "* INSERT INTO -  Insert new row into table. A single insert statement can only insert into a single table. (Contrast this with the select statement, which can pull data from several tables using a join.)\n",
    "\n",
    "Example of insert code: insert into table ( column1, column2, ... ) values ( val1, val2, ... );\n",
    "![title](img/figure11.png)"
   ]
  },
  {
   "cell_type": "code",
   "execution_count": null,
   "metadata": {},
   "outputs": [],
   "source": []
  }
 ],
 "metadata": {
  "kernelspec": {
   "display_name": "Python 3",
   "language": "python",
   "name": "python3"
  },
  "language_info": {
   "codemirror_mode": {
    "name": "ipython",
    "version": 3
   },
   "file_extension": ".py",
   "mimetype": "text/x-python",
   "name": "python",
   "nbconvert_exporter": "python",
   "pygments_lexer": "ipython3",
   "version": "3.7.0"
  }
 },
 "nbformat": 4,
 "nbformat_minor": 2
}
