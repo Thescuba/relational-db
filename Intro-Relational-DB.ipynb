{
 "cells": [
  {
   "cell_type": "markdown",
   "metadata": {},
   "source": [
    "# What is a DataBase?\n",
    "\n",
    "## How do we Structure Application Data?\n",
    "### In Memory:\n",
    "* simple variables: numerics and string\n",
    "* data structures: lsits, dictionaries, objects\n",
    "Memory is ephemeral and temporary\n",
    "\n",
    "\n",
    "### Durable Storage:\n",
    "* flat files on disk: test, XML, JSON\n",
    "Durable storage is persistent and durable.\n",
    "\n",
    "Databases give us persistence like a file but also data structure for multiple programs or users to access modify data without steping on eachothers toes or make changes.\n",
    "This is not possible with files as they only update on saves.\n",
    "\n",
    "### Databases:\n",
    "* key-value store\n",
    "* navigational DB\n",
    "* relational DB\n",
    "\n",
    "## Relational Database Features:\n",
    "### All Databases:\n",
    "* persistent storage\n",
    "* safe concurrent access by multiple programs/users\n",
    "### Relational database:\n",
    "* Flexible query language with aggregation and join operations\n",
    "* contstraints - rules for protecting consistency of your data\n",
    "\n",
    "\n",
    "### Looking at Tables:\n",
    "In a relational database we store all of our data in the forum of tables\n",
    "\n",
    "Country| Population| Literacy\n",
    "--- | --- | ---\n",
    "Argentina | 43 million | 98%\n",
    "Brazil | 203 million | 91%\n",
    "Colombia | 47 million | 94%\n",
    "Ecuador | 15 million | 92%\n",
    "...|...|...\n",
    "\n",
    "Every column in a database will have a type associated with it while two column day have the same type  the values can totally team different things. Say we have a database of a hotel which has two collumns, one for hotel room numer and another of cost per night. hotel room 77 will have little to do with $77 a night for a room.  \n",
    "\n",
    "## Anatomy of a Table\n",
    "The name of our table below is Animals. The name of the table and the column name and type make up the table header. The body of the table makes up the rest of the table\n",
    "Animals:\n",
    "\n",
    "name| species| birthdate\n",
    "--- | --- | ---\n",
    "Max | gorilla | 2001-04-13\n",
    "Sue | gorilla | 1998-06-12\n",
    "Max | moose | 2012-02-20\n",
    "Alison | llama | 1997-11-24\n",
    "\n",
    "Primary keys need to be unique. Using a name may seem like a good idea as a unique but there may be multiple \"Sam Smith\" and if one of the Sam Smiths got a ticket would that mean the other Sam Smith would have to pay it? It often best to use a number for each person. \n",
    "\n",
    "When learning SQL there may be multiple different choices to choose from. While you can see the options below, mysql and postgresql will take you query and go over a network to the database sever to be able to access you data, but with sqlite your database will be found on your system and can access your disk directly. \n"
   ]
  },
  {
   "cell_type": "markdown",
   "metadata": {},
   "source": [
    "![title](img/figure1.png)\n",
    "<img src=\"img/figure1.png\">\n",
    "## Relating Tables\n",
    "\n",
    "With relational databases we have tables relate to one another, we in the figure below we will see an example. Pictures and Votes are two tables that we would like to use information from. We have an app with pictures and we want our users to vote for their favorite. Say now that we are interested in which cat got the most votes. With SQL we can do that in just a few lines of code but lets get the high level understanding done first. The first thing we may want to do is sub the Votes tables with the names of the cats from our Pictures table."
   ]
  },
  {
   "cell_type": "markdown",
   "metadata": {},
   "source": [
    "![title](img/figure2.png)\n",
    "![title](img/figure3.png)\n",
    "\n"
   ]
  },
  {
   "cell_type": "markdown",
   "metadata": {},
   "source": [
    "After we join the tables we would select the winners-name and group by winner-name Order by the total count of winner-name, order in desceding order and limit it just 1. This would return us the most popularr cat.\n",
    "\n",
    "Another examples with fish is in the figure below for a more visual representation. \n",
    "![title](img/figure4.png)"
   ]
  },
  {
   "cell_type": "code",
   "execution_count": null,
   "metadata": {},
   "outputs": [],
   "source": []
  }
 ],
 "metadata": {
  "kernelspec": {
   "display_name": "Python 3",
   "language": "python",
   "name": "python3"
  },
  "language_info": {
   "codemirror_mode": {
    "name": "ipython",
    "version": 3
   },
   "file_extension": ".py",
   "mimetype": "text/x-python",
   "name": "python",
   "nbconvert_exporter": "python",
   "pygments_lexer": "ipython3",
   "version": "3.6.6"
  }
 },
 "nbformat": 4,
 "nbformat_minor": 2
}
