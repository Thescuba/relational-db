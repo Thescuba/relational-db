{
 "cells": [
  {
   "cell_type": "markdown",
   "metadata": {},
   "source": [
    "# Welcome to your Database\n",
    "## We will be Connecting Python code to a SQL Database\n",
    "In this assignment we will be running a webform and will be adapting the code to use a database backend. Once we have sucessfully used a database backend we will then find and fix the most common bugs affecting webapp database and fixing the damage that they can cause to your database. Lets get started!\n",
    "\n",
    "## What is a DB-API?"
   ]
  },
  {
   "cell_type": "markdown",
   "metadata": {},
   "source": [
    "![](img/dbapi1.PNG)"
   ]
  },
  {
   "cell_type": "markdown",
   "metadata": {},
   "source": [
    "In the first two notebooks we have gone though how to get a database to give up and output given a query and had used a black box to hide the bits about how a query gets the information. If you were following the course on Udacity the querys you enter were send to the web servers but now we will go into more depth about how the magic happens."
   ]
  },
  {
   "cell_type": "markdown",
   "metadata": {},
   "source": [
    "![](img/dbapi2.PNG)"
   ]
  },
  {
   "cell_type": "markdown",
   "metadata": {},
   "source": [
    "Behind the Udacity web servers is python code that allows us to connect to an sqlite database using the DB-API method calls. These DB_API isnt a library but a standard for libraries to left python code connect to databases.  If you learnt he BD-API functions you can apply those to any database system. Below we have Database Systems and their corresponding libraries."
   ]
  },
  {
   "cell_type": "markdown",
   "metadata": {},
   "source": [
    "![](img/dbapi3.PNG)"
   ]
  },
  {
   "cell_type": "markdown",
   "metadata": {},
   "source": [
    "In the VM we will be using the PostgreSQL."
   ]
  },
  {
   "cell_type": "markdown",
   "metadata": {},
   "source": [
    "![](img/dbapi4.PNG)"
   ]
  },
  {
   "cell_type": "markdown",
   "metadata": {},
   "source": [
    "Above is an example of using python code with the DB-API and in this case sqlite3. The general rules can be applied to any database with the DB-API. \n",
    "\n",
    "## Query Example\n",
    "1. We want to do is import the DB-API in the example above we use sqlite\n",
    "2. Connect to your Database may have to state host name, username, password and other information. The connection will stay open until we close it.\n",
    "3. Initialize  our cursor, the cursor is what actually runs query and fetches results. It is called cursor because when the data base give you results we want to scan though them like we would with a text cursor.\n",
    "4. Execute a query using the cursor\n",
    "5. Fetch all the results\n",
    "6. (optional) if you insert data into our database we may want to commit() it here or is something went wrong rollback\n",
    "6. Close our connection once we finish!"
   ]
  },
  {
   "cell_type": "markdown",
   "metadata": {},
   "source": [
    "### Code to Create Table"
   ]
  },
  {
   "cell_type": "code",
   "execution_count": 1,
   "metadata": {},
   "outputs": [],
   "source": [
    "import sqlite3\n",
    "conn = sqlite3.connect('people.db')\n",
    "c = conn.cursor()\n",
    "c.execute(\"CREATE TABLE friends (name text, age integer)\")\n",
    "conn.commit()\n",
    "conn.close()"
   ]
  },
  {
   "cell_type": "markdown",
   "metadata": {},
   "source": [
    "### Code to Insert into a Table"
   ]
  },
  {
   "cell_type": "code",
   "execution_count": 2,
   "metadata": {},
   "outputs": [],
   "source": [
    "import sqlite3\n",
    "conn = sqlite3.connect('people.db')\n",
    "c = conn.cursor()\n",
    "c.execute(\"INSERT INTO friends VALUES ('STEVE', 26)\")\n",
    "conn.commit()\n",
    "conn.close()"
   ]
  },
  {
   "cell_type": "markdown",
   "metadata": {},
   "source": [
    "One thing to always remember is that when we do a query using the keyword insert, we must also commit our changes to the database. Image we were writing an accounting system and we wanted to pull \\\\$100 from your account and put \\\\$100 into Kims account. We might do changes to two different tables but the key takeaways is that we want both to take place at the same time or if something goes wrong we want neither to take effect. Also say that another user was viewing the database we would never want them to see one change and not the other. When we make changes such as insert to our database they go into something called transaction, when we call commit the transaction actually takes effect. If we close the connection without commiting our changes will be rolled back. This means that none of our changed will have taken place."
   ]
  },
  {
   "cell_type": "markdown",
   "metadata": {},
   "source": [
    "### Code to Query our Table"
   ]
  },
  {
   "cell_type": "code",
   "execution_count": 4,
   "metadata": {},
   "outputs": [],
   "source": [
    "conn = sqlite3.connect('people.db')\n",
    "cursor = conn.cursor()\n",
    "cursor.execute(\"SELECT * from friends \")\n",
    "result = cursor.fetchall()\n",
    "conn.commit()\n",
    "conn.close()"
   ]
  },
  {
   "cell_type": "code",
   "execution_count": 5,
   "metadata": {},
   "outputs": [
    {
     "name": "stdout",
     "output_type": "stream",
     "text": [
      "[('STEVE', 26)]\n"
     ]
    }
   ],
   "source": [
    "# print our results\n",
    "print(result)"
   ]
  },
  {
   "cell_type": "markdown",
   "metadata": {},
   "source": []
  },
  {
   "cell_type": "markdown",
   "metadata": {},
   "source": [
    "Great lets get some more people into our database!"
   ]
  },
  {
   "cell_type": "code",
   "execution_count": 8,
   "metadata": {},
   "outputs": [],
   "source": [
    "conn = sqlite3.connect('people.db')\n",
    "cursor = conn.cursor()\n",
    "cursor.execute(\"INSERT INTO friends VALUES ('TIM', 25), ('LARRY', 26), ('KIM', 25), ('STEPHANIE', 21)\")\n",
    "result = cursor.fetchall()\n",
    "conn.commit()\n",
    "conn.close()"
   ]
  },
  {
   "cell_type": "markdown",
   "metadata": {},
   "source": [
    "Let Query our Table again!"
   ]
  },
  {
   "cell_type": "code",
   "execution_count": 9,
   "metadata": {},
   "outputs": [
    {
     "name": "stdout",
     "output_type": "stream",
     "text": [
      "[('STEVE', 26), ('TIM', 25), ('LARRY', 26), ('KIM', 25), ('STEPHANIE', 21)]\n"
     ]
    }
   ],
   "source": [
    "conn = sqlite3.connect('people.db')\n",
    "cursor = conn.cursor()\n",
    "cursor.execute(\"SELECT * from friends \")\n",
    "result = cursor.fetchall()\n",
    "conn.commit()\n",
    "conn.close()\n",
    "# print our results\n",
    "print(result)"
   ]
  },
  {
   "cell_type": "markdown",
   "metadata": {},
   "source": [
    "Lets try to sort our group of friends alphabetically by their names. "
   ]
  },
  {
   "cell_type": "code",
   "execution_count": 12,
   "metadata": {},
   "outputs": [
    {
     "name": "stdout",
     "output_type": "stream",
     "text": [
      "[('KIM', 25), ('LARRY', 26), ('STEPHANIE', 21), ('STEVE', 26), ('TIM', 25)]\n"
     ]
    }
   ],
   "source": [
    "conn = sqlite3.connect('people.db')\n",
    "c = conn.cursor()\n",
    "query = \"select * from friends ORDER BY name;\"\n",
    "c.execute(query)\n",
    "results = c.fetchall()\n",
    "conn.close()\n",
    "print(results)"
   ]
  },
  {
   "cell_type": "markdown",
   "metadata": {},
   "source": [
    "### Running a Web Forum"
   ]
  },
  {
   "cell_type": "markdown",
   "metadata": {},
   "source": [
    "For the second of this notebook we will using vagrant to work on our forum.py file.\n",
    "In our example we will be using windows with git bash. \n",
    "\n",
    "### Start the Virtual Machine\n",
    "To start our virtual machine we need to open up gitbash to the relational-db directory and run the command <code>vagrant up</code>.\n",
    "![](img/vagrant.PNG)\n",
    "\n",
    "Next we need to log in, to do this we run <code>vagrant ssh</code>.\n",
    "\n",
    "![](img/vagrant2.PNG)\n",
    "\n",
    "Inside the VM, change directory to <code>/vagrant</code> and look around with <code>ls</code>.\n",
    "\n",
    "The files you see here are the same as the ones in the <code>vagrant</code> subdirectory on your computer (where you started Vagrant from). Any file you create in one will be automatically shared to the other. This means that you can edit code in your favorite text editor, and run it inside the VM.\n",
    "\n",
    "Files in the VM's <code>/vagrant</code> directory are shared with the <code>vagrant</code> folder on your computer. But other data inside the VM is not. For instance, the PostgreSQL database itself lives only inside the VM.\n",
    "\n",
    "## Logging Out and In\n",
    "If you type exit (or Ctrl-D) at the shell prompt inside the VM, you will be logged out, and put back into your host computer's shell. To log back in, make sure you're in the same directory and type vagrant ssh again.\n",
    "\n",
    "If you reboot your computer, you will need to run vagrant up to restart the VM.\n",
    "\n",
    "If you run into any problem please review this [link](https://classroom.udacity.com/courses/ud197/lessons/3423258756/concepts/14c72fe3-e3fe-4959-9c4b-467cf5b7c3a0) for troubleshooting tips."
   ]
  },
  {
   "cell_type": "markdown",
   "metadata": {},
   "source": [
    "### Starting Our Forum\n",
    "The first thing we must do is cd in the forum directory. Once there we run the command <code>python forum.py</code>\n",
    "![](img/db.PNG)\n",
    "The forum seems to work as expected where we put post it will store our message and the time of posting but when we try to reset the web server we see that our all post are gone! If we look into our forumdb.py we see that our <code>POSTS</code> are stored as a just a plain old variable. Plain old variables arn't a database and will go away once the program ends. Lets work on making from changes to this code."
   ]
  },
  {
   "cell_type": "markdown",
   "metadata": {},
   "source": [
    "### Hello PSQL\n",
    "[Postgresql](http://www.postgresql.org/docs/9.4/static/app-psql.html) can we accessed with <code>psql</code> in the command line.\n",
    "\n",
    "To connect psql to a database running on the same machine (such as your VM), all you need to give it is the database name. For instance, the command psql forum will connect to the forum database.\n",
    "\n",
    "From within psql, you can run any SQL statement using the tables in the connected database. Make sure to end SQL statements with a semicolon, which is not always required from Python.\n",
    "\n",
    "You can also use a number of special psql commands to get information about the database and make configuration changes. The \\d posts command shown in the video is one example — this displays the columns of the posts table.\n",
    "\n",
    "Some other things you can do:\n",
    "\n",
    "<code>\\dt</code> — list all the tables in the database.\n",
    "\n",
    "<code>\\dt+</code> — list tables plus additional information (notably, how big each table is on disk).\n",
    "\n",
    "<code>\\H</code> — switch between printing tables in plain text vs. HTML."
   ]
  },
  {
   "cell_type": "markdown",
   "metadata": {},
   "source": [
    "### Give that App a Backend\n",
    "The forum database has already been created for you in the virtual machine that you downloaded. Your code will need to connect to it using psycopg2.connect(\"dbname=forum\") and then perform select and insert operations on the posts table.\n",
    "\n",
    "The existing get_posts function returns all the entries from a list. So its database version should return all the entries from the posts table.\n",
    "\n",
    "And likewise, the existing add_post function inserts an entry into a list.\n",
    "\n",
    "You do not need to provide the time column when you insert a post. The table is set up to already provide a timestamp.\n",
    "\n",
    "The existing get_posts function puts the posts in order using a Python reversed function. When you implement this function using the database, can you put the posts in order using only SQL?\n",
    "\n",
    "Initially our forumdb file looked like "
   ]
  },
  {
   "cell_type": "code",
   "execution_count": null,
   "metadata": {},
   "outputs": [],
   "source": [
    "POSTS = [(\"This is the first post.\", datetime.datetime.now())]\n",
    "\n",
    "def get_posts():\n",
    "  \"\"\"Return all posts from the 'database', most recent first.\"\"\"\n",
    "  return reversed(POSTS)\n",
    "\n",
    "def add_post(content):\n",
    "  \"\"\"Add a post to the 'database' with the current timestamp.\"\"\"\n",
    "  POSTS.append((content, datetime.datetime.now()))\n"
   ]
  },
  {
   "cell_type": "markdown",
   "metadata": {},
   "source": [
    "We wanted to get some backend so the first step in to connect to the database, once connected we want to add a cursor then execute our query. We would like to get the post concent and time time of all the post in our database byt we would like the most recent ones first. We store the results from the query in posts and close our connection. \n",
    "\n",
    "When we add a post we want to make sure to remember to commit our changes. We will insert the contents to our post and then commit before disconnecting from the server. \n",
    "The code below is found in the solutions under forumdb_step_one."
   ]
  },
  {
   "cell_type": "code",
   "execution_count": null,
   "metadata": {},
   "outputs": [],
   "source": [
    "def get_posts():\n",
    "  \"\"\"Return all posts from the 'database', most recent first.\"\"\"\n",
    "  db = psycopg2.connect(database=DBNAME)\n",
    "  c = db.cursor()\n",
    "  c.execute(\"select content, time from posts order by time desc\")\n",
    "  posts = c.fetchall()\n",
    "  db.close()\n",
    "  return posts\n",
    "\n",
    "def add_post(content):\n",
    "  \"\"\"Add a post to the 'database' with the current timestamp.\"\"\"\n",
    "  db = psycopg2.connect(database=DBNAME)\n",
    "  c = db.cursor()\n",
    "  c.execute(\"insert into posts values ('{}')\".format(content)) # Almost but not quite.\n",
    "  db.commit()\n",
    "  db.close()\n"
   ]
  },
  {
   "cell_type": "markdown",
   "metadata": {},
   "source": [
    "Everything looks to be working find if input from the user are as expected but we seem to have missed something. If we enter a message containing <code>'</code> will give us an error as it will give us a syntax error in our query. This will cause our forum to crash.\n",
    "\n",
    "![](img/db2.PNG)\n",
    "\n",
    "Another mess we can try is <code>'); delete from posts; --</code>. This is a famous security bug that will delete our messages from the post table.\n",
    "\n",
    "![](img/db3.PNG)\n",
    "\n",
    "Looks like that post deleted all our other posts, What can we do to avoid this kind of bug?\n",
    "\n",
    "![](img/db4.PNG)\n"
   ]
  },
  {
   "cell_type": "markdown",
   "metadata": {},
   "source": [
    "We want to make sure to use query parameters instead of string substitution, Let change our code and see how this may look. You can find the code in forumdb_step_two.py in the solutions directory."
   ]
  },
  {
   "cell_type": "code",
   "execution_count": null,
   "metadata": {},
   "outputs": [],
   "source": [
    "def get_posts():\n",
    "  \"\"\"Return all posts from the 'database', most recent first.\"\"\"\n",
    "  db = psycopg2.connect(database=DBNAME)\n",
    "  c = db.cursor()\n",
    "  c.execute(\"select content, time from posts order by time desc\")\n",
    "  posts = c.fetchall()\n",
    "  db.close()\n",
    "  return posts\n",
    "\n",
    "def add_post(content):\n",
    "  \"\"\"Add a post to the 'database' with the current timestamp.\"\"\"\n",
    "  db = psycopg2.connect(database=DBNAME)\n",
    "  c = db.cursor()\n",
    "  c.execute(\"insert into posts values (%s)\", (content,))  # Better, but ...\n",
    "  db.commit()\n",
    "  db.close()"
   ]
  },
  {
   "cell_type": "markdown",
   "metadata": {},
   "source": [
    "Lets see what our results are now when we run <code>'); delete from posts; --</code>. \n",
    "\n",
    "![](img/db5.PNG)\n",
    "\n",
    "Looks like we may be safe from sql injection attacks.\n",
    "\n",
    "What happens when we run the following code\n",
    "\n",
    "```\n",
    "<script>\n",
    "setTimeout(function() {\n",
    "    var tt = document.getElementById('content');\n",
    "    tt.value = \"<h2 style='color: #FF6699; font-family: Comic Sans MS'>Spam, spam, spam, spam,<br>Wonderful spam, glorious spam!</h2>\";\n",
    "    tt.form.submit();\n",
    "}, 2500);\n",
    "</script>\n",
    "```\n",
    "\n",
    "![](img/db6.PNG)\n",
    "\n",
    "Look like our post is posting spam everytime we load the page. Why might this be happening?\n",
    "\n",
    "![](img/db7.PNG)\n",
    "\n",
    "Our database and our web sever are taking the post in find but our browser thinks that this is some code. THis is called a scipt injection attack. Real web forms dont allowed javascript code in their comments.\n",
    "\n",
    "### Stop Spam\n",
    "[Bleach](https://bleach.readthedocs.io/en/latest/) is an allowed-list-based HTML sanitizing library that escapes or strips markup and attributes. We can clean our data.\n",
    "\n",
    "Do you think it is better to clean bad stuff out of our post before our code stores it in the database or store whatever the user sends and clean the bad stuff our before we display it?\n",
    "\n",
    "The answer is it depends, we do like input sanitization where we clean our data before storing it so we dont have to worry about problems later even if we want to use the data with a different interface. On the other hand if we want an accurate record of what users have sent to us we wanted to save what the users have sent to use, but we would also like to make sure that bad inputs were no already present in our databased before we got started. \n",
    " \n",
    "In our code we start with cleaning our input."
   ]
  },
  {
   "cell_type": "code",
   "execution_count": null,
   "metadata": {},
   "outputs": [],
   "source": [
    "def get_posts():\n",
    "  \"\"\"Return all posts from the 'database', most recent first.\"\"\"\n",
    "  db = psycopg2.connect(database=DBNAME)\n",
    "  c = db.cursor()\n",
    "  c.execute(\"select content, time from posts order by time desc\")\n",
    "  posts = c.fetchall()\n",
    "  db.close()\n",
    "  return posts\n",
    "\n",
    "def add_post(content):\n",
    "  \"\"\"Add a post to the 'database' with the current timestamp.\"\"\"\n",
    "  db = psycopg2.connect(database=DBNAME)\n",
    "  c = db.cursor()\n",
    "  c.execute(\"insert into posts values (%s)\", (bleach.clean(content),))  # good\n",
    "  db.commit()\n",
    "  db.close()\n"
   ]
  },
  {
   "cell_type": "code",
   "execution_count": null,
   "metadata": {},
   "outputs": [],
   "source": []
  },
  {
   "cell_type": "code",
   "execution_count": null,
   "metadata": {},
   "outputs": [],
   "source": []
  }
 ],
 "metadata": {
  "kernelspec": {
   "display_name": "Python 3",
   "language": "python",
   "name": "python3"
  },
  "language_info": {
   "codemirror_mode": {
    "name": "ipython",
    "version": 3
   },
   "file_extension": ".py",
   "mimetype": "text/x-python",
   "name": "python",
   "nbconvert_exporter": "python",
   "pygments_lexer": "ipython3",
   "version": "3.7.1"
  }
 },
 "nbformat": 4,
 "nbformat_minor": 2
}
