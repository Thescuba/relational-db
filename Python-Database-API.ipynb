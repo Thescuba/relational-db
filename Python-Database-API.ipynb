{
 "cells": [
  {
   "cell_type": "markdown",
   "metadata": {},
   "source": [
    "# Welcome to your Database\n",
    "## We will be Connecting Python code to a SQL Database\n",
    "In this assignment we will be running a webform and will be adapting the code to use a database backend. Once we have sucessfully used a database backend we will then find and fix the most common bugs affecting webapp database and fixing the damage that they can cause to your database. Lets get started!\n",
    "\n",
    "## What is a DB-API?"
   ]
  },
  {
   "cell_type": "markdown",
   "metadata": {},
   "source": [
    "![](img/dbapi1.PNG)"
   ]
  },
  {
   "cell_type": "markdown",
   "metadata": {},
   "source": [
    "In the first two notebooks we have gone though how to get a database to give up and output given a query and had used a black box to hide the bits about how a query gets the information. If you were following the course on Udacity the querys you enter were send to the web servers but now we will go into more depth about how the magic happens."
   ]
  },
  {
   "cell_type": "markdown",
   "metadata": {},
   "source": [
    "![](img/dbapi2.PNG)"
   ]
  },
  {
   "cell_type": "markdown",
   "metadata": {},
   "source": [
    "Behind the Udacity web servers is python code that allows us to connect to an sqlite database using the DB-API method calls. These DB_API isnt a library but a standard for libraries to left python code connect to databases.  If you learnt he BD-API functions you can apply those to any database system. Below we have Database Systems and their corresponding libraries."
   ]
  },
  {
   "cell_type": "markdown",
   "metadata": {},
   "source": [
    "![](img/dbapi3.PNG)"
   ]
  },
  {
   "cell_type": "markdown",
   "metadata": {},
   "source": [
    "In the VM we will be using the PostgreSQL."
   ]
  },
  {
   "cell_type": "markdown",
   "metadata": {},
   "source": [
    "![](img/dbapi4.PNG)"
   ]
  },
  {
   "cell_type": "markdown",
   "metadata": {},
   "source": [
    "Above is an example of using python code with the DB-API and in this case sqlite3. The general rules can be applied to any database with the DB-API. \n",
    "\n",
    "## Query Example\n",
    "1. We want to do is import the DB-API in the example above we use sqlite\n",
    "2. Connect to your Database may have to state host name, username, password and other information. The connection will stay open until we close it.\n",
    "3. Initialize  our cursor, the cursor is what actually runs query and fetches results. It is called cursor because when the data base give you results we want to scan though them like we would with a text cursor.\n",
    "4. Execute a query using the cursor\n",
    "5. Fetch all the results\n",
    "6. (optional) if you insert data into our database we may want to commit() it here or is something went wrong rollback\n",
    "6. Close our connection once we finish!"
   ]
  },
  {
   "cell_type": "markdown",
   "metadata": {},
   "source": [
    "### Code to Create Table"
   ]
  },
  {
   "cell_type": "code",
   "execution_count": 1,
   "metadata": {},
   "outputs": [],
   "source": [
    "import sqlite3\n",
    "conn = sqlite3.connect('people.db')\n",
    "c = conn.cursor()\n",
    "c.execute(\"CREATE TABLE friends (name text, age integer)\")\n",
    "conn.commit()\n",
    "conn.close()"
   ]
  },
  {
   "cell_type": "markdown",
   "metadata": {},
   "source": [
    "### Code to Insert into a Table"
   ]
  },
  {
   "cell_type": "code",
   "execution_count": 2,
   "metadata": {},
   "outputs": [],
   "source": [
    "import sqlite3\n",
    "conn = sqlite3.connect('people.db')\n",
    "c = conn.cursor()\n",
    "c.execute(\"INSERT INTO friends VALUES ('STEVE', 26)\")\n",
    "conn.commit()\n",
    "conn.close()"
   ]
  },
  {
   "cell_type": "markdown",
   "metadata": {},
   "source": [
    "One thing to always remember is that when we do a query using the keyword insert, we must also commit our changes to the database. Image we were writing an accounting system and we wanted to pull \\\\$100 from your account and put \\\\$100 into Kims account. We might do changes to two different tables but the key takeaways is that we want both to take place at the same time or if something goes wrong we want neither to take effect. Also say that another user was viewing the database we would never want them to see one change and not the other. When we make changes such as insert to our database they go into something called transaction, when we call commit the transaction actually takes effect. If we close the connection without commiting our changes will be rolled back. This means that none of our changed will have taken place."
   ]
  },
  {
   "cell_type": "markdown",
   "metadata": {},
   "source": [
    "### Code to Query our Table"
   ]
  },
  {
   "cell_type": "code",
   "execution_count": 4,
   "metadata": {},
   "outputs": [],
   "source": [
    "conn = sqlite3.connect('people.db')\n",
    "cursor = conn.cursor()\n",
    "cursor.execute(\"SELECT * from friends \")\n",
    "result = cursor.fetchall()\n",
    "conn.commit()\n",
    "conn.close()"
   ]
  },
  {
   "cell_type": "code",
   "execution_count": 5,
   "metadata": {},
   "outputs": [
    {
     "name": "stdout",
     "output_type": "stream",
     "text": [
      "[('STEVE', 26)]\n"
     ]
    }
   ],
   "source": [
    "# print our results\n",
    "print(result)"
   ]
  },
  {
   "cell_type": "markdown",
   "metadata": {},
   "source": []
  },
  {
   "cell_type": "markdown",
   "metadata": {},
   "source": [
    "Great lets get some more people into our database!"
   ]
  },
  {
   "cell_type": "code",
   "execution_count": 8,
   "metadata": {},
   "outputs": [],
   "source": [
    "conn = sqlite3.connect('people.db')\n",
    "cursor = conn.cursor()\n",
    "cursor.execute(\"INSERT INTO friends VALUES ('TIM', 25), ('LARRY', 26), ('KIM', 25), ('STEPHANIE', 21)\")\n",
    "result = cursor.fetchall()\n",
    "conn.commit()\n",
    "conn.close()"
   ]
  },
  {
   "cell_type": "markdown",
   "metadata": {},
   "source": [
    "Let Query our Table again!"
   ]
  },
  {
   "cell_type": "code",
   "execution_count": 9,
   "metadata": {},
   "outputs": [
    {
     "name": "stdout",
     "output_type": "stream",
     "text": [
      "[('STEVE', 26), ('TIM', 25), ('LARRY', 26), ('KIM', 25), ('STEPHANIE', 21)]\n"
     ]
    }
   ],
   "source": [
    "conn = sqlite3.connect('people.db')\n",
    "cursor = conn.cursor()\n",
    "cursor.execute(\"SELECT * from friends \")\n",
    "result = cursor.fetchall()\n",
    "conn.commit()\n",
    "conn.close()\n",
    "# print our results\n",
    "print(result)"
   ]
  },
  {
   "cell_type": "markdown",
   "metadata": {},
   "source": [
    "Lets try to sort our group of friends alphabetically by their names. "
   ]
  },
  {
   "cell_type": "code",
   "execution_count": 12,
   "metadata": {},
   "outputs": [
    {
     "name": "stdout",
     "output_type": "stream",
     "text": [
      "[('KIM', 25), ('LARRY', 26), ('STEPHANIE', 21), ('STEVE', 26), ('TIM', 25)]\n"
     ]
    }
   ],
   "source": [
    "conn = sqlite3.connect('people.db')\n",
    "c = conn.cursor()\n",
    "query = \"select * from friends ORDER BY name;\"\n",
    "c.execute(query)\n",
    "results = c.fetchall()\n",
    "conn.close()\n",
    "print(results)"
   ]
  },
  {
   "cell_type": "markdown",
   "metadata": {},
   "source": [
    "### Running a Web Forum"
   ]
  },
  {
   "cell_type": "markdown",
   "metadata": {},
   "source": [
    "For the second of this notebook we will using vagrant to work on our forum.py file.\n",
    "In our example we will be using windows with git bash. \n",
    "\n",
    "### Start the Virtual Machine\n",
    "To start our virtual machine we need to open up gitbash to the relational-db directory and run the command <code>vagrant up</code>.\n",
    "![](img/vagrant.PNG)\n",
    "\n",
    "Next we need to log in, to do this we run <code>vagrant ssh</code>.\n",
    "![](img/vagrant2.PNG)\n",
    "\n",
    "Inside the VM, change directory to <code>/vagrant</code> and look around with <code>ls</code>.\n",
    "\n",
    "The files you see here are the same as the ones in the <code>vagrant</code> subdirectory on your computer (where you started Vagrant from). Any file you create in one will be automatically shared to the other. This means that you can edit code in your favorite text editor, and run it inside the VM.\n",
    "\n",
    "Files in the VM's <code>/vagrant</code> directory are shared with the <code>vagrant</code> folder on your computer. But other data inside the VM is not. For instance, the PostgreSQL database itself lives only inside the VM.\n",
    "\n",
    "## Logging Out and In\n",
    "If you type exit (or Ctrl-D) at the shell prompt inside the VM, you will be logged out, and put back into your host computer's shell. To log back in, make sure you're in the same directory and type vagrant ssh again.\n",
    "\n",
    "If you reboot your computer, you will need to run vagrant up to restart the VM.\n",
    "\n",
    "If you run into any problem please review this [link](https://classroom.udacity.com/courses/ud197/lessons/3423258756/concepts/14c72fe3-e3fe-4959-9c4b-467cf5b7c3a0) for troubleshooting tips."
   ]
  },
  {
   "cell_type": "code",
   "execution_count": null,
   "metadata": {},
   "outputs": [],
   "source": []
  }
 ],
 "metadata": {
  "kernelspec": {
   "display_name": "Python 3",
   "language": "python",
   "name": "python3"
  },
  "language_info": {
   "codemirror_mode": {
    "name": "ipython",
    "version": 3
   },
   "file_extension": ".py",
   "mimetype": "text/x-python",
   "name": "python",
   "nbconvert_exporter": "python",
   "pygments_lexer": "ipython3",
   "version": "3.7.1"
  }
 },
 "nbformat": 4,
 "nbformat_minor": 2
}
