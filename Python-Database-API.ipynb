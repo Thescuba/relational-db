{
 "cells": [
  {
   "cell_type": "markdown",
   "metadata": {},
   "source": [
    "# Welcome to your Database\n",
    "## We will be Connecting Python code to a SQL Database\n",
    "In this assignment we will be running a webform and will be adapting the code to use a database backend. Once we have sucessfully used a database backend we will then find and fix the most common bugs affecting webapp database and fixing the damage that they can cause to your database. Lets get started!\n",
    "\n",
    "## What is a DB-API?"
   ]
  },
  {
   "cell_type": "markdown",
   "metadata": {},
   "source": [
    "![](img/dbapi1.PNG)"
   ]
  },
  {
   "cell_type": "markdown",
   "metadata": {},
   "source": [
    "In the first two notebooks we have gone though how to get a database to give up and output given a query and had used a black box to hide the bits about how a query gets the information. If you were following the course on Udacity the querys you enter were send to the web servers but now we will go into more depth about how the magic happens."
   ]
  },
  {
   "cell_type": "markdown",
   "metadata": {},
   "source": [
    "![](img/dbapi2.PNG)"
   ]
  },
  {
   "cell_type": "markdown",
   "metadata": {},
   "source": [
    "Behind the Udacity web servers is python code that allows us to connect to an sqlite database using the DB-API method calls. These DB_API isnt a library but a standard for libraries to left python code connect to databases.  If you learnt he BD-API functions you can apply those to any database system. Below we have Database Systems and their corresponding libraries."
   ]
  },
  {
   "cell_type": "markdown",
   "metadata": {},
   "source": [
    "![](img/dbapi3.PNG)"
   ]
  },
  {
   "cell_type": "markdown",
   "metadata": {},
   "source": [
    "In the VM we will be using the PostgreSQL."
   ]
  },
  {
   "cell_type": "markdown",
   "metadata": {},
   "source": [
    "![](img/dbapi4.PNG)"
   ]
  },
  {
   "cell_type": "markdown",
   "metadata": {},
   "source": [
    "Above is an example of using python code with the DB-API and in this case sqlite3. The general rules can be applied to any database with the DB-API. \n",
    "\n",
    "## Query Example\n",
    "1. We want to do is import the DB-API in the example above we use sqlite\n",
    "2. Connect to your Database may have to state host name, username, password and other information. The connection will stay open until we close it.\n",
    "3. Initialize  our cursor, the cursor is what actually runs query and fetches results. It is called cursor because when the data base give you results we want to scan though them like we would with a text cursor.\n",
    "4. Execute a query using the cursor\n",
    "5. Fetch all the results\n",
    "6. (optional) if you insert data into our database we may want to commit() it here or is something went wrong rollback\n",
    "6. Close our connection once we finish!"
   ]
  },
  {
   "cell_type": "markdown",
   "metadata": {},
   "source": [
    "### Code to Create Table"
   ]
  },
  {
   "cell_type": "code",
   "execution_count": 3,
   "metadata": {},
   "outputs": [],
   "source": [
    "import sqlite3\n",
    "conn = sqlite3.connect('people.db')\n",
    "cursor = conn.cursor()\n",
    "cursor.execute(\"CREATE TABLE friends (name text, age integer)\")\n",
    "conn.commit()\n",
    "conn.close()"
   ]
  },
  {
   "cell_type": "markdown",
   "metadata": {},
   "source": [
    "### Code to Insert into a Table"
   ]
  },
  {
   "cell_type": "code",
   "execution_count": 4,
   "metadata": {},
   "outputs": [],
   "source": [
    "import sqlite3\n",
    "conn = sqlite3.connect('people.db')\n",
    "cursor = conn.cursor()\n",
    "cursor.execute(\"INSERT INTO friends VALUES ('Steve', 26)\")\n",
    "conn.commit()\n",
    "conn.close()"
   ]
  },
  {
   "cell_type": "code",
   "execution_count": null,
   "metadata": {},
   "outputs": [],
   "source": [
    "### Code to Query our Table"
   ]
  },
  {
   "cell_type": "code",
   "execution_count": 5,
   "metadata": {},
   "outputs": [],
   "source": [
    "import sqlite3\n",
    "conn = sqlite3.connect('people.db')\n",
    "cursor = conn.cursor()\n",
    "cursor.execute(\"SELECT * from friends \")\n",
    "result = cursor.fetchall()\n",
    "conn.close()"
   ]
  },
  {
   "cell_type": "code",
   "execution_count": 6,
   "metadata": {},
   "outputs": [
    {
     "name": "stdout",
     "output_type": "stream",
     "text": [
      "[('STEVE', 26)]\n"
     ]
    }
   ],
   "source": [
    "# print our results\n",
    "print(result)"
   ]
  },
  {
   "cell_type": "markdown",
   "metadata": {},
   "source": [
    "Lets fill up our sample database"
   ]
  },
  {
   "cell_type": "code",
   "execution_count": 10,
   "metadata": {},
   "outputs": [],
   "source": [
    "conn = sqlite3.connect('people.db')\n",
    "cursor = conn.cursor()\n",
    "cursor.execute(\"\"\"INSERT INTO friends (name, age) \n",
    "    VALUES ('Kim', 24),('Brian', 25), ('Stephanie', 22), ('ED', 26)\"\"\")\n",
    "conn.commit()\n",
    "conn.close()"
   ]
  },
  {
   "cell_type": "markdown",
   "metadata": {},
   "source": [
    "Let read our data and sort by name. "
   ]
  },
  {
   "cell_type": "code",
   "execution_count": 13,
   "metadata": {},
   "outputs": [
    {
     "name": "stdout",
     "output_type": "stream",
     "text": [
      "   ('Brian', 25)\n",
      "   ('ED', 26)\n",
      "   ('Kim', 24)\n",
      "   ('STEVE', 26)\n",
      "   ('Stephanie', 22)\n"
     ]
    }
   ],
   "source": [
    "conn = sqlite3.connect('people.db')\n",
    "cursor = conn.cursor()\n",
    "cursor.execute(\"SELECT * from friends ORDER BY NAME\")\n",
    "rows = cursor.fetchall()\n",
    "conn.close()\n",
    "\n",
    "for row in rows:\n",
    "    print(\"  \", row)"
   ]
  },
  {
   "cell_type": "markdown",
   "metadata": {},
   "source": [
    "For the second half of the notebook we wil be working in a vagrant file. Please make sure to have all the required instaill programs. Please start up your virtual machines in the relational-db directory."
   ]
  },
  {
   "cell_type": "markdown",
   "metadata": {},
   "source": [
    "## SQL Injection Attack\n",
    "When working with our webforum we the first task we had was to modify add_post to use a progresql call and insert our message into the database.\n",
    "Below is an example of what the code may look like"
   ]
  },
  {
   "cell_type": "code",
   "execution_count": null,
   "metadata": {},
   "outputs": [],
   "source": [
    "import psycopg2\n",
    "\n",
    "DBNAME = \"forum\"\n",
    "\n",
    "def get_posts():\n",
    "    \"\"\"Return all posts from the 'database', most recent first.\"\"\"\n",
    "    db = psycopg2.connect(database=DBNAME)\n",
    "    c = db.cursor()\n",
    "    c.execute(\"select content, time from posts order by time desc\")\n",
    "    posts = c.fetchall()\n",
    "    db.close()\n",
    "    return posts\n",
    "\n",
    "def add_post(content):\n",
    "    \"\"\"Add a post to the 'database' with the current timestamp.\"\"\"\n",
    "    db = psycopg2.connect(database=DBNAME)\n",
    "    c = db.cursor()\n",
    "    c.execute(\"insert into posts values ('%s')\" % content) # Almost but not quite.\n",
    "    db.commit()\n",
    "    db.close()"
   ]
  },
  {
   "cell_type": "markdown",
   "metadata": {},
   "source": [
    "A SQL injection attack is whesome of our posts text is being interperited as a database command and used in a way that was non intended. What would happen if we ender the following text into our database? \n",
    "\n",
    "`'); delete from posts; --`\n",
    "\n",
    "The add_post function would read it as c.execute(\"insert into posts values'); delete from posts; --). Where it would only catch the error after it has already finished the deleted from posts command. We now need to fix this so make sure it doesnt happen again! Lucky for us if you do a %s followed but a tuple with the contents followed by a comma\n"
   ]
  },
  {
   "cell_type": "code",
   "execution_count": null,
   "metadata": {},
   "outputs": [],
   "source": []
  }
 ],
 "metadata": {
  "kernelspec": {
   "display_name": "Python 3",
   "language": "python",
   "name": "python3"
  },
  "language_info": {
   "codemirror_mode": {
    "name": "ipython",
    "version": 3
   },
   "file_extension": ".py",
   "mimetype": "text/x-python",
   "name": "python",
   "nbconvert_exporter": "python",
   "pygments_lexer": "ipython3",
   "version": "3.7.0"
  }
 },
 "nbformat": 4,
 "nbformat_minor": 2
}
