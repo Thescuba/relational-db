{
 "cells": [
  {
   "cell_type": "markdown",
   "metadata": {},
   "source": [
    "# What is a DataBase?\n",
    "\n",
    "## How do we structure application data?\n",
    "### In Memory:\n",
    "* simple variables: numerics and string\n",
    "* data structures: lsits, dictionaries, objects\n",
    "Memory is ephemeral and temporary\n",
    "\n",
    "\n",
    "### Durable Storage:\n",
    "* flat files on disk: test, XML, JSON\n",
    "Durable storage is persistent and durable.\n",
    "\n",
    "Databases give us persistence like a file but also data structure for multiple programs or users to access modify data without steping on eachothers toes or make changes.\n",
    "This is not possible with files as they only update on saves.\n",
    "\n",
    "### Databases:\n",
    "* key-value store\n",
    "* navigational DB\n",
    "* relational DB\n",
    "\n",
    "## Relational database features:\n",
    "### All Databases:\n",
    "* persistent storage\n",
    "* safe concurrent access by multiple programs/users\n",
    "### Relational database:\n",
    "* Flexible query language with aggregation and join operations\n",
    "* contstraints - rules for protecting consistency of your data\n",
    "\n",
    "\n",
    "### Looking at Tables:\n",
    "In a relational database we store all of our data in the forum of tables\n",
    "\n",
    "Country| Population| Literacy\n",
    "--- | --- | ---\n",
    "Argentina | 43 million | 98%\n",
    "Brazil | 203 million | 91%\n",
    "Colombia | 47 million | 94%\n",
    "Ecuador | 15 million | 92%\n",
    "...|...|...\n",
    "\n",
    "Every column in a database will have a type associated with it while two column day have the same type  the values can totally team different things. Say we have a database of a hotel which has two collumns, one for hotel room numer and another of cost per night. hotel room 77 will have little to do with $77 a night for a room.  \n",
    "\n",
    "## Anatomy of a Table\n",
    "The name of our table below is Animals. The name of the table and the column name and type make up the table header. The body of the table makes up the rest of the table\n",
    "Animals:\n",
    "\n",
    "name| species| birthdate\n",
    "--- | --- | ---\n",
    "Max | gorilla | 2001-04-13\n",
    "Sue | gorilla | 1998-06-12\n",
    "Max | moose | 2012-02-20\n",
    "Alison | llama | 1997-11-24\n"
   ]
  },
  {
   "cell_type": "markdown",
   "metadata": {},
   "source": [
    "![title](img/figure1.png)\n",
    "![title](img/figure2.png)\n",
    "![title](img/figure3.png)\n",
    "\n",
    "Primary keys need to be unique. Using a name may seem like a good idea as a unique but there may be multiple \"Sam Smith\" and if one of the Sam Smiths got a ticket would that mean the other Sam Smith would have to pay it? It often best to use a number for each person. \n",
    "\n",
    "![title](img/figure4.png)"
   ]
  },
  {
   "cell_type": "markdown",
   "metadata": {},
   "source": [
    "# Element of SQL\n",
    "## Types in SQL World\n",
    "### Text and string types\n",
    "* text - like str type in python but writen in 'single quotes'\n",
    "* char(n) — a string of exactly n characters.\n",
    "* varchar(n) — a string of up to n characters.\n",
    "### Numeric types\n",
    "* integer - like int type in python but with different limits\n",
    "* real — a floating-point value, like Python float. Accurate up to six decimal places.\n",
    "* double precision — a higher-precision floating-point value. Accurate up to 15 decimal places.\n",
    "* decimal — an exact decimal value.\n",
    "\n",
    "### Date and time types\n",
    "* date — a calendar date; including year, month, and day.\n",
    "* time — a time of day.\n",
    "* timestamp — a date and time together.\n",
    "**hint:** Always put 'single quotes' around text strings and date/time values. example '2012-11-23' can be read as a string or a date while 2012-11-23 will be read as a mathamatical expression ((2012 - 11) - 23) which returns 1978.\n",
    "\n",
    "## Comparison Operations in SQL\n",
    "* = - is equal to\n",
    "* < - is less than\n",
    "* \\> - is greater than\n",
    "* <= is less than or equal to\n",
    "* \\>= - is greater than or equal to\n",
    "* != - is not equal to\n",
    "![title](img/figure5.png)\n",
    "![title](img/figure6.png)"
   ]
  },
  {
   "cell_type": "markdown",
   "metadata": {},
   "source": [
    "\n"
   ]
  }
 ],
 "metadata": {
  "kernelspec": {
   "display_name": "Python 3",
   "language": "python",
   "name": "python3"
  },
  "language_info": {
   "codemirror_mode": {
    "name": "ipython",
    "version": 3
   },
   "file_extension": ".py",
   "mimetype": "text/x-python",
   "name": "python",
   "nbconvert_exporter": "python",
   "pygments_lexer": "ipython3",
   "version": "3.6.6"
  }
 },
 "nbformat": 4,
 "nbformat_minor": 2
}
